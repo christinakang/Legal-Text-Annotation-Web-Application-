{
 "cells": [
  {
   "cell_type": "code",
   "execution_count": 12,
   "id": "d9639797",
   "metadata": {},
   "outputs": [],
   "source": [
    "import json\n",
    "import pandas as pd\n",
    "import spacy\n",
    "\n",
    "nlp = spacy.load(\"en_core_web_sm\")\n"
   ]
  },
  {
   "cell_type": "code",
   "execution_count": 13,
   "id": "efc8d6db",
   "metadata": {},
   "outputs": [
    {
     "name": "stdout",
     "output_type": "stream",
     "text": [
      "Type: <class 'dict'>\n"
     ]
    }
   ],
   "source": [
    "\n",
    " \n",
    "with open('sample.json') as json_file:\n",
    "    data = json.load(json_file)\n",
    " \n",
    "    # Print the type of data variable\n",
    "    print(\"Type:\", type(data))\n",
    " \n",
    "    # Print the data of dictionary\n",
    "   #print(\"\\nUser:\", data['User'])\n",
    "    #print(\"Text_Tag:\", data['Text_Tag'])\n",
    "    "
   ]
  },
  {
   "cell_type": "code",
   "execution_count": 14,
   "id": "694d0dc4",
   "metadata": {
    "scrolled": true
   },
   "outputs": [
    {
     "data": {
      "text/plain": [
       "{'User': 'admin',\n",
       " 'ScenarioID': '1',\n",
       " 'Text_Tags': [{'selectedText': 'November', 'selectedTag': 'tag1'},\n",
       "  {'selectedText': 'lives next door', 'selectedTag': 'tag2'}],\n",
       " 'Selected Relations': ['{(November[tag1] ) (re1)(lives next door[tag2])} '],\n",
       " 'Issues': 'whether revocation is valid?',\n",
       " 'Sections': ['2b', '2c'],\n",
       " 'RelatedCourtCase_pageNum': 'courtcase(11)',\n",
       " 'Analysis': '-{n 1 Nove[Offer Date]} { IF......ELSE......  } \\n-  { (n 1 Nove[Offer Date] ) (relation1) (oor to Hu[Offer Date]  )',\n",
       " 'Conclusion': 'Yes',\n",
       " 'Original Objects': [{'@context': 'http://www.w3.org/ns/anno.jsonld',\n",
       "   'type': 'Annotation',\n",
       "   'body': [{'type': 'TextualBody', 'value': 'tag1', 'purpose': 'tagging'}],\n",
       "   'target': {'selector': [{'type': 'TextQuoteSelector', 'exact': 'November'},\n",
       "     {'type': 'TextPositionSelector', 'start': 5, 'end': 13}]},\n",
       "   'id': '#8ed6df9f-f580-4619-857c-7296c1b912d5'},\n",
       "  {'@context': 'http://www.w3.org/ns/anno.jsonld',\n",
       "   'type': 'Annotation',\n",
       "   'body': [{'type': 'TextualBody', 'value': 'tag2', 'purpose': 'tagging'}],\n",
       "   'target': {'selector': [{'type': 'TextQuoteSelector',\n",
       "      'exact': 'lives next door'},\n",
       "     {'type': 'TextPositionSelector', 'start': 25, 'end': 40}]},\n",
       "   'id': '#6b6ae216-9a47-418d-9a48-80f285dd3773'},\n",
       "  {'@context': 'http://www.w3.org/ns/anno.jsonld',\n",
       "   'type': 'Annotation',\n",
       "   'id': '#5bdeafe4-4389-4975-bcd5-a16f345793a5',\n",
       "   'body': [{'type': 'TextualBody', 'value': 're1', 'purpose': 'tagging'}],\n",
       "   'target': [{'id': '#8ed6df9f-f580-4619-857c-7296c1b912d5'},\n",
       "    {'id': '#6b6ae216-9a47-418d-9a48-80f285dd3773'}],\n",
       "   'motivation': 'linking'}]}"
      ]
     },
     "execution_count": 14,
     "metadata": {},
     "output_type": "execute_result"
    }
   ],
   "source": [
    "data"
   ]
  },
  {
   "cell_type": "code",
   "execution_count": 15,
   "id": "f243527b",
   "metadata": {},
   "outputs": [
    {
     "data": {
      "text/plain": [
       "[{'selectedText': 'November', 'selectedTag': 'tag1'},\n",
       " {'selectedText': 'lives next door', 'selectedTag': 'tag2'}]"
      ]
     },
     "execution_count": 15,
     "metadata": {},
     "output_type": "execute_result"
    }
   ],
   "source": [
    "tags= data['Text_Tags']\n",
    "tags"
   ]
  },
  {
   "cell_type": "code",
   "execution_count": 16,
   "id": "88317f23",
   "metadata": {},
   "outputs": [
    {
     "data": {
      "text/plain": [
       "['{(November[tag1] ) (re1)(lives next door[tag2])} ']"
      ]
     },
     "execution_count": 16,
     "metadata": {},
     "output_type": "execute_result"
    }
   ],
   "source": [
    "relations= data['Selected Relations']\n",
    "relations"
   ]
  },
  {
   "cell_type": "code",
   "execution_count": 17,
   "id": "41187406",
   "metadata": {},
   "outputs": [
    {
     "data": {
      "text/plain": [
       "['On 1 November, Ahmad who lives next door to Hussain called on Hussain and offer to sell his IBM computer for RM2,000 ',\n",
       " ' On 3 November, Hussain wrote and posted a letter to Ahmad accepting the offer',\n",
       " ' The letter was not addressed properly',\n",
       " 'Hence Ahmad received the letter of acceptance on 8 November instead of on 5 November',\n",
       " ' On the evening of 6 November, Ahmad telephoned Hussain and said ‘I revoke my offer to you']"
      ]
     },
     "execution_count": 17,
     "metadata": {},
     "output_type": "execute_result"
    }
   ],
   "source": [
    "scenario = 'On 1 November, Ahmad who lives next door to Hussain called on Hussain and offer to sell his IBM computer for RM2,000 . On 3 November, Hussain wrote and posted a letter to Ahmad accepting the offer. The letter was not addressed properly.Hence Ahmad received the letter of acceptance on 8 November instead of on 5 November. On the evening of 6 November, Ahmad telephoned Hussain and said ‘I revoke my offer to you'\n",
    "sentence = scenario.split('.')\n",
    "sentence\n"
   ]
  },
  {
   "cell_type": "code",
   "execution_count": 25,
   "id": "b60696ef",
   "metadata": {},
   "outputs": [
    {
     "name": "stdout",
     "output_type": "stream",
     "text": [
      "On ADP ROOT O\n",
      "1 NUM nummod O\n",
      "November PROPN pobj O\n",
      ", PUNCT punct O\n",
      "Ahmad PROPN pobj O\n",
      "who PRON nsubj O\n",
      "lives VERB relcl tag2\n",
      "next ADJ amod tag2\n",
      "door NOUN npadvmod tag2\n",
      "to ADP prep O\n",
      "Hussain PROPN pobj O\n",
      "called VERB acl O\n",
      "on ADP prep O\n",
      "Hussain PROPN pobj O\n",
      "and CCONJ cc O\n",
      "offer VERB conj O\n",
      "to PART aux O\n",
      "sell VERB xcomp O\n",
      "his DET poss O\n",
      "IBM PROPN compound O\n",
      "computer NOUN dobj O\n",
      "for ADP prep O\n",
      "RM2,000 SYM pobj O\n",
      "  SPACE  tag2\n",
      "On ADP prep O\n",
      "3 NUM nummod O\n",
      "November PROPN pobj O\n",
      ", PUNCT punct O\n",
      "Hussain PROPN nsubj O\n",
      "wrote VERB ROOT O\n",
      "and CCONJ cc O\n",
      "posted VERB conj O\n",
      "a DET det O\n",
      "letter NOUN dobj O\n",
      "to ADP prep O\n",
      "Ahmad PROPN pobj O\n",
      "accepting VERB acl O\n",
      "the DET det O\n",
      "offer NOUN dobj O\n",
      "  SPACE  tag2\n",
      "The DET det O\n",
      "letter NOUN nsubjpass O\n",
      "was VERB auxpass O\n",
      "not ADV neg O\n",
      "addressed VERB ROOT O\n",
      "properly ADV advmod O\n",
      "Hence ADV advmod O\n",
      "Ahmad PROPN nsubj O\n",
      "received VERB ROOT O\n",
      "the DET det O\n",
      "letter NOUN dobj O\n",
      "of ADP prep O\n",
      "acceptance NOUN pobj O\n",
      "on ADP prep O\n",
      "8 NUM nummod O\n",
      "November PROPN pobj O\n",
      "instead ADV advmod O\n",
      "of ADP prep O\n",
      "on ADP prep O\n",
      "5 NUM nummod O\n",
      "November PROPN pobj O\n",
      "  SPACE  tag2\n",
      "On ADP prep O\n",
      "the DET det O\n",
      "evening NOUN pobj O\n",
      "of ADP prep O\n",
      "6 NUM nummod O\n",
      "November PROPN pobj O\n",
      ", PUNCT punct O\n",
      "Ahmad PROPN nsubj O\n",
      "telephoned VERB ROOT O\n",
      "Hussain PROPN dobj O\n",
      "and CCONJ cc O\n",
      "said VERB conj O\n",
      "‘ X punct O\n",
      "I PRON nsubj O\n",
      "revoke VERB ROOT O\n",
      "my DET poss O\n",
      "offer NOUN dobj O\n",
      "to ADP dative O\n",
      "you PRON pobj O\n"
     ]
    }
   ],
   "source": [
    "for item in sentence:\n",
    "    doc = nlp(item)\n",
    "    for token in doc:\n",
    "        for worTag in tags:\n",
    "            word = worTag['selectedText'].strip()\n",
    "            tag = worTag['selectedTag']\n",
    "            #print(\"word: \",word, \"  token.text : \",token.text)\n",
    "            if word.find(token.text) or token.text.find(word) != -1:\n",
    "                tagSpa = tag\n",
    "            else:\n",
    "                tagSpa = 'O'\n",
    "        print(token.text, token.pos_, token.dep_,tagSpa)"
   ]
  },
  {
   "cell_type": "code",
   "execution_count": 20,
   "id": "8006507f",
   "metadata": {},
   "outputs": [
    {
     "name": "stdout",
     "output_type": "stream",
     "text": [
      "{'scenarioID': '1', 'model': 'Mustang', 'year': 1964}\n"
     ]
    }
   ],
   "source": [
    "typeA_dic = {\n",
    "  \"scenarioID\": data['ScenarioID'],\n",
    "  \"model\": \"Mustang\",\n",
    "  \"year\": 1964\n",
    "}\n",
    "print(typeA_dic)"
   ]
  }
 ],
 "metadata": {
  "kernelspec": {
   "display_name": "Python 3",
   "language": "python",
   "name": "python3"
  },
  "language_info": {
   "codemirror_mode": {
    "name": "ipython",
    "version": 3
   },
   "file_extension": ".py",
   "mimetype": "text/x-python",
   "name": "python",
   "nbconvert_exporter": "python",
   "pygments_lexer": "ipython3",
   "version": "3.6.13"
  }
 },
 "nbformat": 4,
 "nbformat_minor": 5
}
