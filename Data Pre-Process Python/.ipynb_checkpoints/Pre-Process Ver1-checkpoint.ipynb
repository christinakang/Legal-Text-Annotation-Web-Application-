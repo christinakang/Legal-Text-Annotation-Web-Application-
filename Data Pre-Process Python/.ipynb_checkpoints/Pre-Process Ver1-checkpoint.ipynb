{
 "cells": [
  {
   "cell_type": "code",
   "execution_count": 51,
   "id": "d9639797",
   "metadata": {},
   "outputs": [],
   "source": [
    "import json"
   ]
  },
  {
   "cell_type": "code",
   "execution_count": 52,
   "id": "efc8d6db",
   "metadata": {},
   "outputs": [
    {
     "name": "stdout",
     "output_type": "stream",
     "text": [
      "Type: <class 'dict'>\n"
     ]
    }
   ],
   "source": [
    "\n",
    " \n",
    "with open('sample.json') as json_file:\n",
    "    data = json.load(json_file)\n",
    " \n",
    "    # Print the type of data variable\n",
    "    print(\"Type:\", type(data))\n",
    " \n",
    "    # Print the data of dictionary\n",
    "   #print(\"\\nUser:\", data['User'])\n",
    "    #print(\"Text_Tag:\", data['Text_Tag'])\n",
    "    "
   ]
  },
  {
   "cell_type": "code",
   "execution_count": 53,
   "id": "694d0dc4",
   "metadata": {
    "scrolled": true
   },
   "outputs": [
    {
     "data": {
      "text/plain": [
       "{'User': 'admin',\n",
       " 'ScenarioID': '1',\n",
       " 'Text_Tags': [{'selectedText': 'November', 'selectedTag': 'tag1'},\n",
       "  {'selectedText': 'lives next door', 'selectedTag': 'tag2'}],\n",
       " 'Selected Relations': ['{(November[tag1] ) (re1)(lives next door[tag2])} '],\n",
       " 'Issues': 'whether revocation is valid?',\n",
       " 'Sections': ['2b', '2c'],\n",
       " 'RelatedCourtCase_pageNum': 'courtcase(11)',\n",
       " 'Analysis': '-{n 1 Nove[Offer Date]} { IF......ELSE......  } \\n-  { (n 1 Nove[Offer Date] ) (relation1) (oor to Hu[Offer Date]  )',\n",
       " 'Conclusion': 'Yes',\n",
       " 'Original Objects': [{'@context': 'http://www.w3.org/ns/anno.jsonld',\n",
       "   'type': 'Annotation',\n",
       "   'body': [{'type': 'TextualBody', 'value': 'tag1', 'purpose': 'tagging'}],\n",
       "   'target': {'selector': [{'type': 'TextQuoteSelector', 'exact': 'November'},\n",
       "     {'type': 'TextPositionSelector', 'start': 5, 'end': 13}]},\n",
       "   'id': '#8ed6df9f-f580-4619-857c-7296c1b912d5'},\n",
       "  {'@context': 'http://www.w3.org/ns/anno.jsonld',\n",
       "   'type': 'Annotation',\n",
       "   'body': [{'type': 'TextualBody', 'value': 'tag2', 'purpose': 'tagging'}],\n",
       "   'target': {'selector': [{'type': 'TextQuoteSelector',\n",
       "      'exact': 'lives next door'},\n",
       "     {'type': 'TextPositionSelector', 'start': 25, 'end': 40}]},\n",
       "   'id': '#6b6ae216-9a47-418d-9a48-80f285dd3773'},\n",
       "  {'@context': 'http://www.w3.org/ns/anno.jsonld',\n",
       "   'type': 'Annotation',\n",
       "   'id': '#5bdeafe4-4389-4975-bcd5-a16f345793a5',\n",
       "   'body': [{'type': 'TextualBody', 'value': 're1', 'purpose': 'tagging'}],\n",
       "   'target': [{'id': '#8ed6df9f-f580-4619-857c-7296c1b912d5'},\n",
       "    {'id': '#6b6ae216-9a47-418d-9a48-80f285dd3773'}],\n",
       "   'motivation': 'linking'}]}"
      ]
     },
     "execution_count": 53,
     "metadata": {},
     "output_type": "execute_result"
    }
   ],
   "source": [
    "data"
   ]
  },
  {
   "cell_type": "code",
   "execution_count": 54,
   "id": "f243527b",
   "metadata": {},
   "outputs": [
    {
     "data": {
      "text/plain": [
       "[{'selectedText': 'November', 'selectedTag': 'tag1'},\n",
       " {'selectedText': 'lives next door', 'selectedTag': 'tag2'}]"
      ]
     },
     "execution_count": 54,
     "metadata": {},
     "output_type": "execute_result"
    }
   ],
   "source": [
    "tags= data['Text_Tags']\n",
    "tags"
   ]
  },
  {
   "cell_type": "code",
   "execution_count": 55,
   "id": "88317f23",
   "metadata": {},
   "outputs": [
    {
     "data": {
      "text/plain": [
       "['{(November[tag1] ) (re1)(lives next door[tag2])} ']"
      ]
     },
     "execution_count": 55,
     "metadata": {},
     "output_type": "execute_result"
    }
   ],
   "source": [
    "relations= data['Selected Relations']\n",
    "relations"
   ]
  },
  {
   "cell_type": "code",
   "execution_count": null,
   "id": "8006507f",
   "metadata": {},
   "outputs": [],
   "source": []
  }
 ],
 "metadata": {
  "kernelspec": {
   "display_name": "Python 3",
   "language": "python",
   "name": "python3"
  },
  "language_info": {
   "codemirror_mode": {
    "name": "ipython",
    "version": 3
   },
   "file_extension": ".py",
   "mimetype": "text/x-python",
   "name": "python",
   "nbconvert_exporter": "python",
   "pygments_lexer": "ipython3",
   "version": "3.6.13"
  }
 },
 "nbformat": 4,
 "nbformat_minor": 5
}
