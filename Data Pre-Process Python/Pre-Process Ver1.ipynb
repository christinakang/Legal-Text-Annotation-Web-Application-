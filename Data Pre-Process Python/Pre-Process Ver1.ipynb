{
 "cells": [
  {
   "cell_type": "code",
   "execution_count": 2,
   "id": "d9639797",
   "metadata": {},
   "outputs": [],
   "source": [
    "import json\n",
    "import pandas as pd\n",
    "import spacy\n",
    "\n",
    "nlp = spacy.load(\"en_core_web_sm\")\n"
   ]
  },
  {
   "cell_type": "code",
   "execution_count": 3,
   "id": "efc8d6db",
   "metadata": {},
   "outputs": [
    {
     "name": "stdout",
     "output_type": "stream",
     "text": [
      "Type: <class 'dict'>\n"
     ]
    }
   ],
   "source": [
    "\n",
    " \n",
    "with open('sample2.json') as json_file:\n",
    "    data = json.load(json_file)\n",
    " \n",
    "    # Print the type of data variable\n",
    "    print(\"Type:\", type(data))\n",
    " \n",
    "    # Print the data of dictionary\n",
    "   #print(\"\\nUser:\", data['User'])\n",
    "    #print(\"Text_Tag:\", data['Text_Tag'])\n",
    "    "
   ]
  },
  {
   "cell_type": "code",
   "execution_count": 4,
   "id": "694d0dc4",
   "metadata": {
    "scrolled": true
   },
   "outputs": [
    {
     "data": {
      "text/plain": [
       "{'User': 'admin',\n",
       " 'ScenarioID': '3',\n",
       " 'Text_Tags': [{'selectedText': 'he advertised in the newspaper for sale for $1000',\n",
       "   'selectedTag': 'invitation to treat'},\n",
       "  {'selectedText': 'She telephoned Alan, saying that she would buy the book for $1000',\n",
       "   'selectedTag': 'offer'},\n",
       "  {'selectedText': 'he could not sell the book for less than $2000.',\n",
       "   'selectedTag': 'counter offer'},\n",
       "  {'selectedText': 'eplied that she would give him $1500',\n",
       "   'selectedTag': 'counter offer'},\n",
       "  {'selectedText': 'Alan replied', 'selectedTag': 'counter offer'},\n",
       "  {'selectedText': 'he would only sell the book for $2000 but that he would keep his offer open for seven days.',\n",
       "   'selectedTag': 'counter offer'},\n",
       "  {'selectedText': 'Alan replied that he would only sell the book for $2000 but that he would keep his offer open for seven days',\n",
       "   'selectedTag': 'counter offer'},\n",
       "  {'selectedText': 'said that Cate could fax her acceptance to him if she wanted',\n",
       "   'selectedTag': 'specification of mode of acceptance'},\n",
       "  {'selectedText': 'Two days later', 'selectedTag': 'date of acceptance'},\n",
       "  {'selectedText': 'She posted her acceptance to Alan.',\n",
       "   'selectedTag': 'acceptance by post'},\n",
       "  {'selectedText': 'David told Cate that he had bought a copy of Kidnapped from Alan for $7, 000.',\n",
       "   'selectedTag': 'revocation of offer by reliable source'},\n",
       "  {'selectedText': 'David told Cate that he had bought a copy of Kidnapped from Alan for $7, 000',\n",
       "   'selectedTag': 'communication of revocation by third party'},\n",
       "  {'selectedText': 'Cate rang Alan to confirm that she had accepted his offer',\n",
       "   'selectedTag': 'communication of acceptance'},\n",
       "  {'selectedText': 'next day Alan sold the book to his friend David',\n",
       "   'selectedTag': 'revocation of offer'}],\n",
       " 'Selected_Relations': [' {(Two days later[date of acceptance]) (related to) (She posted her acceptance to Alan.[acceptance by post])} ',\n",
       "  ' {(next day Alan sold the book to his friend David[revocation of offer]) (related to ) (David told Cate that he had bought a copy of Kidnapped from Alan for $7, 000[communication of revocation by third party])} '],\n",
       " 'Issues': 'whether there is a valid contract between Alan and Cate',\n",
       " 'Sections': ['4.1', '4.2', '4.3', '5.1', '6a', '7', '7a', '7b'],\n",
       " 'RelatedCourtCase_pageNum': 'Routledge v Grant (1828) 4 Bing 653[]',\n",
       " 'Analysis': \"(1) According to {Eckhardt Marine GmbH v Sheriff, High Court of Malaya, Seremban (2001) 4 MLJ 49[]} THEN Alan's advertisement to sell the book for $1000 is an invitation to treat {LEGALLIZATION}\\n(2) IF Alan's advertisement to sell the book for $1000 is an invitation to treat THEN Cate's reply to buy the book for $ 1000 is an offer. {Section 4.1} {LEGALLIZATION}\\n(3) Alan's reply saying that he could not sell the book for less than $2000 is not an acceptance because acceptance must be absolute and unqualified.{Section 7a} {LEGALLIZATION} {AND} since Alan changed the price from $1500 to $2000, he made a counter offer which in effect destroyed Cate's original offer {Malayan Flour Mills Bhd v Saw Eng Chee (Administrator of the estate of Saw Cheng Chor, decd) (1997) 1 MLJ 763. []}{LEGALLIZATION}\\n(4) Cate's reply to buy at $1500 is also a counter offer {CO-REFERENCE (3)}\\n(5) Alan did not accept Cate's counter offer but he made another counter offer that he would only sell the book for $2000 {AND} he would keep his offer open for seven days. {CO-REFERENCE(3)}\\n(6) IF acceptance is made by post THEN it takes effect upon posting  {Adams v Lindsell (1818) 1 B & Ald 681[]} {LEGALLIZATION}\\n(7) {HOWEVER} Alan's offer has a specification of mode of offer therefore postal rule does not apply {AND} Cate's acceptance is invalid {Section 7b} {LEGALLIZATION}\\n(8) IF Cate's acceptance is not valid THEN Alan can revoke his offer {Section 5.1}{LEGALLIZATION}\\n(9) {HOWEVER} revocation only takes effect when it is communicated to Cate {Section 6a} {LEGALLIZATION} \\n(10) The revocation has been communicated by David when he told Cate that he had bought a copy of Kidnapped from Alan for $7, 000 because communication of revocation can be made by third party so long as it is reliable {Routledge v Grant (1828) 4 Bing 653[]}{LEGALLIZATION} \\n(11) IF offer has been revoked THEN Cate cannot accept the offer therefore there is no valid contract {COMMON_SENSE}\",\n",
       " 'Conclusion': 'no, there is no valid contract between Alan and Cate ',\n",
       " 'Original_Objects': [{'@context': 'http://www.w3.org/ns/anno.jsonld',\n",
       "   'type': 'Annotation',\n",
       "   'body': [{'type': 'TextualBody',\n",
       "     'value': 'invitation to treat',\n",
       "     'purpose': 'tagging'}],\n",
       "   'target': {'selector': [{'type': 'TextQuoteSelector',\n",
       "      'exact': 'he advertised in the newspaper for sale for $1000'},\n",
       "     {'type': 'TextPositionSelector', 'start': 114, 'end': 163}]},\n",
       "   'id': '#a42bf8d8-6e11-4ad0-9bce-d8d1369dcc4c'},\n",
       "  {'@context': 'http://www.w3.org/ns/anno.jsonld',\n",
       "   'type': 'Annotation',\n",
       "   'body': [{'type': 'TextualBody', 'value': 'offer', 'purpose': 'tagging'}],\n",
       "   'target': {'selector': [{'type': 'TextQuoteSelector',\n",
       "      'exact': 'She telephoned Alan, saying that she would buy the book for $1000'},\n",
       "     {'type': 'TextPositionSelector', 'start': 192, 'end': 257}]},\n",
       "   'id': '#91508781-0576-4005-933a-7221dc532887'},\n",
       "  {'@context': 'http://www.w3.org/ns/anno.jsonld',\n",
       "   'type': 'Annotation',\n",
       "   'body': [{'type': 'TextualBody',\n",
       "     'value': 'counter offer',\n",
       "     'purpose': 'tagging'}],\n",
       "   'target': {'selector': [{'type': 'TextQuoteSelector',\n",
       "      'exact': 'he could not sell the book for less than $2000.'},\n",
       "     {'type': 'TextPositionSelector', 'start': 327, 'end': 374}]},\n",
       "   'id': '#ce26eaf3-ffb0-41cc-8c62-6e8c3d3c4616'},\n",
       "  {'@context': 'http://www.w3.org/ns/anno.jsonld',\n",
       "   'type': 'Annotation',\n",
       "   'body': [{'type': 'TextualBody',\n",
       "     'value': 'counter offer',\n",
       "     'purpose': 'tagging'}],\n",
       "   'target': {'selector': [{'type': 'TextQuoteSelector',\n",
       "      'exact': 'eplied that she would give him $1500'},\n",
       "     {'type': 'TextPositionSelector', 'start': 380, 'end': 416}]},\n",
       "   'id': '#624f4a4b-b5c0-482a-816a-602dc5418902'},\n",
       "  {'@context': 'http://www.w3.org/ns/anno.jsonld',\n",
       "   'type': 'Annotation',\n",
       "   'body': [{'type': 'TextualBody',\n",
       "     'value': 'counter offer',\n",
       "     'purpose': 'tagging'}],\n",
       "   'target': {'selector': [{'type': 'TextQuoteSelector',\n",
       "      'exact': 'Alan replied'},\n",
       "     {'type': 'TextPositionSelector', 'start': 418, 'end': 430}]},\n",
       "   'id': '#a43a7f75-1a33-4f41-a622-40475d0565da'},\n",
       "  {'@context': 'http://www.w3.org/ns/anno.jsonld',\n",
       "   'type': 'Annotation',\n",
       "   'body': [{'type': 'TextualBody',\n",
       "     'value': 'counter offer',\n",
       "     'purpose': 'tagging'}],\n",
       "   'target': {'selector': [{'type': 'TextQuoteSelector',\n",
       "      'exact': 'he would only sell the book for $2000 but that he would keep his offer open for seven days.'},\n",
       "     {'type': 'TextPositionSelector', 'start': 436, 'end': 527}]},\n",
       "   'id': '#12982348-0bfb-407b-a2ff-e5d80d66b727'},\n",
       "  {'@context': 'http://www.w3.org/ns/anno.jsonld',\n",
       "   'type': 'Annotation',\n",
       "   'body': [{'type': 'TextualBody',\n",
       "     'value': 'counter offer',\n",
       "     'purpose': 'tagging'}],\n",
       "   'target': {'selector': [{'type': 'TextQuoteSelector',\n",
       "      'exact': 'Alan replied that he would only sell the book for $2000 but that he would keep his offer open for seven days'},\n",
       "     {'type': 'TextPositionSelector', 'start': 418, 'end': 526}]},\n",
       "   'id': '#bcbcf916-ad3d-4147-a9f5-c24babb2f796'},\n",
       "  {'@context': 'http://www.w3.org/ns/anno.jsonld',\n",
       "   'type': 'Annotation',\n",
       "   'body': [{'type': 'TextualBody',\n",
       "     'value': 'specification of mode of acceptance',\n",
       "     'purpose': 'tagging'}],\n",
       "   'target': {'selector': [{'type': 'TextQuoteSelector',\n",
       "      'exact': 'said that Cate could fax her acceptance to him if she wanted'},\n",
       "     {'type': 'TextPositionSelector', 'start': 535, 'end': 595}]},\n",
       "   'id': '#cffdaf47-e81c-4595-9c3a-279e5e8e16cf'},\n",
       "  {'@context': 'http://www.w3.org/ns/anno.jsonld',\n",
       "   'type': 'Annotation',\n",
       "   'body': [{'type': 'TextualBody',\n",
       "     'value': 'date of acceptance',\n",
       "     'purpose': 'tagging'}],\n",
       "   'target': {'selector': [{'type': 'TextQuoteSelector',\n",
       "      'exact': 'Two days later'},\n",
       "     {'type': 'TextPositionSelector', 'start': 719, 'end': 733}]},\n",
       "   'id': '#6565108d-7bd8-4cef-9b01-1163b8397a41'},\n",
       "  {'@context': 'http://www.w3.org/ns/anno.jsonld',\n",
       "   'type': 'Annotation',\n",
       "   'body': [{'type': 'TextualBody',\n",
       "     'value': 'acceptance by post',\n",
       "     'purpose': 'tagging'}],\n",
       "   'target': {'selector': [{'type': 'TextQuoteSelector',\n",
       "      'exact': 'She posted her acceptance to Alan.'},\n",
       "     {'type': 'TextPositionSelector', 'start': 794, 'end': 828}]},\n",
       "   'id': '#907cb35c-586d-4678-9d7c-03930ef7a254'},\n",
       "  {'@context': 'http://www.w3.org/ns/anno.jsonld',\n",
       "   'type': 'Annotation',\n",
       "   'id': '#a3bf56d6-a0b0-4a56-93c0-93bec6ab7bff',\n",
       "   'body': [{'type': 'TextualBody',\n",
       "     'value': 'related to',\n",
       "     'purpose': 'tagging'}],\n",
       "   'target': [{'id': '#6565108d-7bd8-4cef-9b01-1163b8397a41'},\n",
       "    {'id': '#907cb35c-586d-4678-9d7c-03930ef7a254'}],\n",
       "   'motivation': 'linking'},\n",
       "  {'@context': 'http://www.w3.org/ns/anno.jsonld',\n",
       "   'type': 'Annotation',\n",
       "   'body': [{'type': 'TextualBody',\n",
       "     'value': 'revocation of offer by reliable source',\n",
       "     'purpose': 'tagging'}],\n",
       "   'target': {'selector': [{'type': 'TextQuoteSelector',\n",
       "      'exact': 'David told Cate that he had bought a copy of Kidnapped from Alan for $7, 000.'},\n",
       "     {'type': 'TextPositionSelector', 'start': 841, 'end': 918}]},\n",
       "   'id': '#eec1ba31-9eeb-4220-a054-1a4199ee67d0'},\n",
       "  {'@context': 'http://www.w3.org/ns/anno.jsonld',\n",
       "   'type': 'Annotation',\n",
       "   'body': [{'type': 'TextualBody',\n",
       "     'value': 'communication of revocation by third party',\n",
       "     'purpose': 'tagging'}],\n",
       "   'target': {'selector': [{'type': 'TextQuoteSelector',\n",
       "      'exact': 'David told Cate that he had bought a copy of Kidnapped from Alan for $7, 000'},\n",
       "     {'type': 'TextPositionSelector', 'start': 841, 'end': 917}]},\n",
       "   'id': '#6f858d56-6793-4ebe-bd9a-d07429e34e11'},\n",
       "  {'@context': 'http://www.w3.org/ns/anno.jsonld',\n",
       "   'type': 'Annotation',\n",
       "   'body': [{'type': 'TextualBody',\n",
       "     'value': 'communication of acceptance',\n",
       "     'purpose': 'tagging'}],\n",
       "   'target': {'selector': [{'type': 'TextQuoteSelector',\n",
       "      'exact': 'Cate rang Alan to confirm that she had accepted his offer'},\n",
       "     {'type': 'TextPositionSelector', 'start': 919, 'end': 976}]},\n",
       "   'id': '#bad56500-2faf-4178-a189-6d026613f3d7'},\n",
       "  {'@context': 'http://www.w3.org/ns/anno.jsonld',\n",
       "   'type': 'Annotation',\n",
       "   'body': [{'type': 'TextualBody',\n",
       "     'value': 'revocation of offer',\n",
       "     'purpose': 'tagging'}],\n",
       "   'target': {'selector': [{'type': 'TextQuoteSelector',\n",
       "      'exact': 'next day Alan sold the book to his friend David'},\n",
       "     {'type': 'TextPositionSelector', 'start': 600, 'end': 647}]},\n",
       "   'id': '#5a1b2fc1-be94-4e42-a44d-d39620e88bf9'},\n",
       "  {'@context': 'http://www.w3.org/ns/anno.jsonld',\n",
       "   'type': 'Annotation',\n",
       "   'id': '#d5a8ff99-4e7f-4f44-be39-551d969c447f',\n",
       "   'body': [{'type': 'TextualBody',\n",
       "     'value': 'related to ',\n",
       "     'purpose': 'tagging'}],\n",
       "   'target': [{'id': '#5a1b2fc1-be94-4e42-a44d-d39620e88bf9'},\n",
       "    {'id': '#6f858d56-6793-4ebe-bd9a-d07429e34e11'}],\n",
       "   'motivation': 'linking'}]}"
      ]
     },
     "execution_count": 4,
     "metadata": {},
     "output_type": "execute_result"
    }
   ],
   "source": [
    "data"
   ]
  },
  {
   "cell_type": "code",
   "execution_count": 5,
   "id": "f243527b",
   "metadata": {},
   "outputs": [
    {
     "data": {
      "text/plain": [
       "[{'selectedText': 'he advertised in the newspaper for sale for $1000',\n",
       "  'selectedTag': 'invitation to treat'},\n",
       " {'selectedText': 'She telephoned Alan, saying that she would buy the book for $1000',\n",
       "  'selectedTag': 'offer'},\n",
       " {'selectedText': 'he could not sell the book for less than $2000.',\n",
       "  'selectedTag': 'counter offer'},\n",
       " {'selectedText': 'eplied that she would give him $1500',\n",
       "  'selectedTag': 'counter offer'},\n",
       " {'selectedText': 'Alan replied', 'selectedTag': 'counter offer'},\n",
       " {'selectedText': 'he would only sell the book for $2000 but that he would keep his offer open for seven days.',\n",
       "  'selectedTag': 'counter offer'},\n",
       " {'selectedText': 'Alan replied that he would only sell the book for $2000 but that he would keep his offer open for seven days',\n",
       "  'selectedTag': 'counter offer'},\n",
       " {'selectedText': 'said that Cate could fax her acceptance to him if she wanted',\n",
       "  'selectedTag': 'specification of mode of acceptance'},\n",
       " {'selectedText': 'Two days later', 'selectedTag': 'date of acceptance'},\n",
       " {'selectedText': 'She posted her acceptance to Alan.',\n",
       "  'selectedTag': 'acceptance by post'},\n",
       " {'selectedText': 'David told Cate that he had bought a copy of Kidnapped from Alan for $7, 000.',\n",
       "  'selectedTag': 'revocation of offer by reliable source'},\n",
       " {'selectedText': 'David told Cate that he had bought a copy of Kidnapped from Alan for $7, 000',\n",
       "  'selectedTag': 'communication of revocation by third party'},\n",
       " {'selectedText': 'Cate rang Alan to confirm that she had accepted his offer',\n",
       "  'selectedTag': 'communication of acceptance'},\n",
       " {'selectedText': 'next day Alan sold the book to his friend David',\n",
       "  'selectedTag': 'revocation of offer'}]"
      ]
     },
     "execution_count": 5,
     "metadata": {},
     "output_type": "execute_result"
    }
   ],
   "source": [
    "tags= data['Text_Tags']\n",
    "tags"
   ]
  },
  {
   "cell_type": "code",
   "execution_count": 7,
   "id": "88317f23",
   "metadata": {},
   "outputs": [
    {
     "data": {
      "text/plain": [
       "[' {(Two days later[date of acceptance]) (related to) (She posted her acceptance to Alan.[acceptance by post])} ',\n",
       " ' {(next day Alan sold the book to his friend David[revocation of offer]) (related to ) (David told Cate that he had bought a copy of Kidnapped from Alan for $7, 000[communication of revocation by third party])} ']"
      ]
     },
     "execution_count": 7,
     "metadata": {},
     "output_type": "execute_result"
    }
   ],
   "source": [
    "relations= data['Selected_Relations']\n",
    "relations"
   ]
  },
  {
   "cell_type": "code",
   "execution_count": 8,
   "id": "53c406c7",
   "metadata": {},
   "outputs": [
    {
     "data": {
      "text/plain": [
       "\"(1) According to {Eckhardt Marine GmbH v Sheriff, High Court of Malaya, Seremban (2001) 4 MLJ 49[]} THEN Alan's advertisement to sell the book for $1000 is an invitation to treat {LEGALLIZATION}\\n(2) IF Alan's advertisement to sell the book for $1000 is an invitation to treat THEN Cate's reply to buy the book for $ 1000 is an offer. {Section 4.1} {LEGALLIZATION}\\n(3) Alan's reply saying that he could not sell the book for less than $2000 is not an acceptance because acceptance must be absolute and unqualified.{Section 7a} {LEGALLIZATION} {AND} since Alan changed the price from $1500 to $2000, he made a counter offer which in effect destroyed Cate's original offer {Malayan Flour Mills Bhd v Saw Eng Chee (Administrator of the estate of Saw Cheng Chor, decd) (1997) 1 MLJ 763. []}{LEGALLIZATION}\\n(4) Cate's reply to buy at $1500 is also a counter offer {CO-REFERENCE (3)}\\n(5) Alan did not accept Cate's counter offer but he made another counter offer that he would only sell the book for $2000 {AND} he would keep his offer open for seven days. {CO-REFERENCE(3)}\\n(6) IF acceptance is made by post THEN it takes effect upon posting  {Adams v Lindsell (1818) 1 B & Ald 681[]} {LEGALLIZATION}\\n(7) {HOWEVER} Alan's offer has a specification of mode of offer therefore postal rule does not apply {AND} Cate's acceptance is invalid {Section 7b} {LEGALLIZATION}\\n(8) IF Cate's acceptance is not valid THEN Alan can revoke his offer {Section 5.1}{LEGALLIZATION}\\n(9) {HOWEVER} revocation only takes effect when it is communicated to Cate {Section 6a} {LEGALLIZATION} \\n(10) The revocation has been communicated by David when he told Cate that he had bought a copy of Kidnapped from Alan for $7, 000 because communication of revocation can be made by third party so long as it is reliable {Routledge v Grant (1828) 4 Bing 653[]}{LEGALLIZATION} \\n(11) IF offer has been revoked THEN Cate cannot accept the offer therefore there is no valid contract {COMMON_SENSE}\""
      ]
     },
     "execution_count": 8,
     "metadata": {},
     "output_type": "execute_result"
    }
   ],
   "source": [
    "analysis = data['Analysis']\n",
    "analysis"
   ]
  },
  {
   "cell_type": "code",
   "execution_count": null,
   "id": "a8a4297b",
   "metadata": {},
   "outputs": [],
   "source": []
  },
  {
   "cell_type": "code",
   "execution_count": null,
   "id": "b77d6714",
   "metadata": {},
   "outputs": [],
   "source": []
  },
  {
   "cell_type": "code",
   "execution_count": null,
   "id": "97731f96",
   "metadata": {},
   "outputs": [],
   "source": []
  },
  {
   "cell_type": "code",
   "execution_count": null,
   "id": "8002cab5",
   "metadata": {},
   "outputs": [],
   "source": []
  },
  {
   "cell_type": "code",
   "execution_count": null,
   "id": "16499a14",
   "metadata": {},
   "outputs": [],
   "source": []
  },
  {
   "cell_type": "code",
   "execution_count": null,
   "id": "63301079",
   "metadata": {},
   "outputs": [],
   "source": []
  },
  {
   "cell_type": "code",
   "execution_count": null,
   "id": "8eb0413c",
   "metadata": {},
   "outputs": [],
   "source": []
  },
  {
   "cell_type": "code",
   "execution_count": null,
   "id": "26e7f0ff",
   "metadata": {},
   "outputs": [],
   "source": []
  },
  {
   "cell_type": "code",
   "execution_count": null,
   "id": "1301d06c",
   "metadata": {},
   "outputs": [],
   "source": []
  },
  {
   "cell_type": "code",
   "execution_count": 40,
   "id": "bd41c3f3",
   "metadata": {},
   "outputs": [
    {
     "data": {
      "text/plain": [
       "['On 1 November, Ahmad who lives next door to Hussain called on Hussain and offer to sell his IBM computer for RM2,000 ',\n",
       " ' On 3 November, Hussain wrote and posted a letter to Ahmad accepting the offer',\n",
       " ' The letter was not addressed properly',\n",
       " 'Hence Ahmad received the letter of acceptance on 8 November instead of on 5 November',\n",
       " ' On the evening of 6 November, Ahmad telephoned Hussain and said ‘I revoke my offer to you']"
      ]
     },
     "execution_count": 40,
     "metadata": {},
     "output_type": "execute_result"
    }
   ],
   "source": [
    "scenario = 'On 1 November, Ahmad who lives next door to Hussain called on Hussain and offer to sell his IBM computer for RM2,000 . On 3 November, Hussain wrote and posted a letter to Ahmad accepting the offer. The letter was not addressed properly.Hence Ahmad received the letter of acceptance on 8 November instead of on 5 November. On the evening of 6 November, Ahmad telephoned Hussain and said ‘I revoke my offer to you'\n",
    "sentence = scenario.split('.')\n",
    "sentence\n",
    "typeAlist=[]\n",
    "i = 0\n",
    "for item in range(len(sentence)):\n",
    "    i +=1\n",
    "    scenarioID = 1\n",
    "    row = scenarioID"
   ]
  },
  {
   "cell_type": "code",
   "execution_count": null,
   "id": "ed60d7dd",
   "metadata": {},
   "outputs": [],
   "source": []
  },
  {
   "cell_type": "code",
   "execution_count": 45,
   "id": "a70fd3e9",
   "metadata": {},
   "outputs": [
    {
     "name": "stdout",
     "output_type": "stream",
     "text": [
      "1 November 3 13 DATE\n",
      "Ahmad 15 20 PERSON\n",
      "Hussain 44 51 GPE\n",
      "Hussain 62 69 GPE\n",
      "IBM 92 95 ORG\n",
      "RM2,000 109 116 PRODUCT\n",
      "3 November 3 13 DATE\n",
      "Hussain 15 22 GPE\n",
      "Ahmad 52 57 PERSON\n",
      "Ahmad 6 11 PERSON\n",
      "8 November 49 59 DATE\n",
      "5 November 74 84 DATE\n",
      "the evening of 6 November 3 28 TIME\n",
      "Ahmad 30 35 PERSON\n",
      "Hussain 47 54 GPE\n"
     ]
    }
   ],
   "source": [
    "for item in sentence:\n",
    "    item = item.strip()\n",
    "    doc = nlp(item)\n",
    "    #for ent in doc.ents:\n",
    "        #print(ent.text, ent.start_char, ent.end_char, ent.label_)\n",
    "    for token in doc:\n",
    "        for worTag in tags:\n",
    "            word = worTag['selectedText']\n",
    "            tag = worTag['selectedTag']\n",
    "            #print(\"word: \",word, \"  token.text : \",token.text)\n",
    "            if word.find(token.text) != -1:\n",
    "                tagSpa = tag\n",
    "            else:\n",
    "                tagSpa = 'O'\n",
    "        #print(token.text, token.pos_, tagSpa)"
   ]
  },
  {
   "cell_type": "code",
   "execution_count": 42,
   "id": "8006507f",
   "metadata": {},
   "outputs": [
    {
     "name": "stdout",
     "output_type": "stream",
     "text": [
      "{'scenarioID': '1', 'model': 'Mustang', 'year': 1964}\n"
     ]
    }
   ],
   "source": [
    "typeA_dic = {\n",
    "  \"scenarioID\": data['ScenarioID'],\n",
    "  \"model\": \"Mustang\",\n",
    "  \"year\": 1964\n",
    "}\n",
    "print(typeA_dic)"
   ]
  }
 ],
 "metadata": {
  "kernelspec": {
   "display_name": "Python 3",
   "language": "python",
   "name": "python3"
  },
  "language_info": {
   "codemirror_mode": {
    "name": "ipython",
    "version": 3
   },
   "file_extension": ".py",
   "mimetype": "text/x-python",
   "name": "python",
   "nbconvert_exporter": "python",
   "pygments_lexer": "ipython3",
   "version": "3.8.8"
  }
 },
 "nbformat": 4,
 "nbformat_minor": 5
}
