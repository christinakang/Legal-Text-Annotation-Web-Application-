{
 "cells": [
  {
   "cell_type": "code",
   "execution_count": 35,
   "id": "d9639797",
   "metadata": {},
   "outputs": [],
   "source": [
    "import json\n",
    "import pandas as pd\n",
    "import spacy\n",
    "\n",
    "nlp = spacy.load(\"en_core_web_sm\")\n"
   ]
  },
  {
   "cell_type": "code",
   "execution_count": 36,
   "id": "efc8d6db",
   "metadata": {},
   "outputs": [
    {
     "name": "stdout",
     "output_type": "stream",
     "text": [
      "Type: <class 'dict'>\n"
     ]
    }
   ],
   "source": [
    "\n",
    " \n",
    "with open('sample.json') as json_file:\n",
    "    data = json.load(json_file)\n",
    " \n",
    "    # Print the type of data variable\n",
    "    print(\"Type:\", type(data))\n",
    " \n",
    "    # Print the data of dictionary\n",
    "   #print(\"\\nUser:\", data['User'])\n",
    "    #print(\"Text_Tag:\", data['Text_Tag'])\n",
    "    "
   ]
  },
  {
   "cell_type": "code",
   "execution_count": 37,
   "id": "694d0dc4",
   "metadata": {
    "scrolled": true
   },
   "outputs": [
    {
     "data": {
      "text/plain": [
       "{'User': 'admin',\n",
       " 'ScenarioID': '1',\n",
       " 'Text_Tags': [{'selectedText': '1 November', 'selectedTag': 'offer date'},\n",
       "  {'selectedText': 'lives next door', 'selectedTag': 'tag2'}],\n",
       " 'Selected Relations': ['{(1 November[offer date] ) (re1)(lives next door[tag2])} '],\n",
       " 'Issues': 'whether revocation is valid?',\n",
       " 'Sections': ['2b', '2c'],\n",
       " 'RelatedCourtCase_pageNum': 'courtcase(11)',\n",
       " 'Analysis': '-{n 1 Nove[Offer Date]} { IF......ELSE......  } \\n-  { (n 1 Nove[Offer Date] ) (relation1) (oor to Hu[Offer Date]  )',\n",
       " 'Conclusion': 'Yes',\n",
       " 'Original Objects': [{'@context': 'http://www.w3.org/ns/anno.jsonld',\n",
       "   'type': 'Annotation',\n",
       "   'body': [{'type': 'TextualBody', 'value': 'tag1', 'purpose': 'tagging'}],\n",
       "   'target': {'selector': [{'type': 'TextQuoteSelector', 'exact': 'November'},\n",
       "     {'type': 'TextPositionSelector', 'start': 5, 'end': 13}]},\n",
       "   'id': '#8ed6df9f-f580-4619-857c-7296c1b912d5'},\n",
       "  {'@context': 'http://www.w3.org/ns/anno.jsonld',\n",
       "   'type': 'Annotation',\n",
       "   'body': [{'type': 'TextualBody', 'value': 'tag2', 'purpose': 'tagging'}],\n",
       "   'target': {'selector': [{'type': 'TextQuoteSelector',\n",
       "      'exact': 'lives next door'},\n",
       "     {'type': 'TextPositionSelector', 'start': 25, 'end': 40}]},\n",
       "   'id': '#6b6ae216-9a47-418d-9a48-80f285dd3773'},\n",
       "  {'@context': 'http://www.w3.org/ns/anno.jsonld',\n",
       "   'type': 'Annotation',\n",
       "   'id': '#5bdeafe4-4389-4975-bcd5-a16f345793a5',\n",
       "   'body': [{'type': 'TextualBody', 'value': 're1', 'purpose': 'tagging'}],\n",
       "   'target': [{'id': '#8ed6df9f-f580-4619-857c-7296c1b912d5'},\n",
       "    {'id': '#6b6ae216-9a47-418d-9a48-80f285dd3773'}],\n",
       "   'motivation': 'linking'}]}"
      ]
     },
     "execution_count": 37,
     "metadata": {},
     "output_type": "execute_result"
    }
   ],
   "source": [
    "data"
   ]
  },
  {
   "cell_type": "code",
   "execution_count": 38,
   "id": "f243527b",
   "metadata": {},
   "outputs": [
    {
     "data": {
      "text/plain": [
       "[{'selectedText': '1 November', 'selectedTag': 'offer date'},\n",
       " {'selectedText': 'lives next door', 'selectedTag': 'tag2'}]"
      ]
     },
     "execution_count": 38,
     "metadata": {},
     "output_type": "execute_result"
    }
   ],
   "source": [
    "tags= data['Text_Tags']\n",
    "tags"
   ]
  },
  {
   "cell_type": "code",
   "execution_count": 39,
   "id": "88317f23",
   "metadata": {},
   "outputs": [
    {
     "data": {
      "text/plain": [
       "['{(1 November[offer date] ) (re1)(lives next door[tag2])} ']"
      ]
     },
     "execution_count": 39,
     "metadata": {},
     "output_type": "execute_result"
    }
   ],
   "source": [
    "relations= data['Selected Relations']\n",
    "relations"
   ]
  },
  {
   "cell_type": "code",
   "execution_count": 40,
   "id": "bd41c3f3",
   "metadata": {},
   "outputs": [
    {
     "data": {
      "text/plain": [
       "['On 1 November, Ahmad who lives next door to Hussain called on Hussain and offer to sell his IBM computer for RM2,000 ',\n",
       " ' On 3 November, Hussain wrote and posted a letter to Ahmad accepting the offer',\n",
       " ' The letter was not addressed properly',\n",
       " 'Hence Ahmad received the letter of acceptance on 8 November instead of on 5 November',\n",
       " ' On the evening of 6 November, Ahmad telephoned Hussain and said ‘I revoke my offer to you']"
      ]
     },
     "execution_count": 40,
     "metadata": {},
     "output_type": "execute_result"
    }
   ],
   "source": [
    "scenario = 'On 1 November, Ahmad who lives next door to Hussain called on Hussain and offer to sell his IBM computer for RM2,000 . On 3 November, Hussain wrote and posted a letter to Ahmad accepting the offer. The letter was not addressed properly.Hence Ahmad received the letter of acceptance on 8 November instead of on 5 November. On the evening of 6 November, Ahmad telephoned Hussain and said ‘I revoke my offer to you'\n",
    "sentence = scenario.split('.')\n",
    "sentence\n",
    "typeAlist=[]\n",
    "i = 0\n",
    "for item in range(len(sentence)):\n",
    "    i +=1\n",
    "    scenarioID = 1\n",
    "    row = scenarioID"
   ]
  },
  {
   "cell_type": "code",
   "execution_count": null,
   "id": "ed60d7dd",
   "metadata": {},
   "outputs": [],
   "source": []
  },
  {
   "cell_type": "code",
   "execution_count": 45,
   "id": "a70fd3e9",
   "metadata": {},
   "outputs": [
    {
     "name": "stdout",
     "output_type": "stream",
     "text": [
      "1 November 3 13 DATE\n",
      "Ahmad 15 20 PERSON\n",
      "Hussain 44 51 GPE\n",
      "Hussain 62 69 GPE\n",
      "IBM 92 95 ORG\n",
      "RM2,000 109 116 PRODUCT\n",
      "3 November 3 13 DATE\n",
      "Hussain 15 22 GPE\n",
      "Ahmad 52 57 PERSON\n",
      "Ahmad 6 11 PERSON\n",
      "8 November 49 59 DATE\n",
      "5 November 74 84 DATE\n",
      "the evening of 6 November 3 28 TIME\n",
      "Ahmad 30 35 PERSON\n",
      "Hussain 47 54 GPE\n"
     ]
    }
   ],
   "source": [
    "for item in sentence:\n",
    "    item = item.strip()\n",
    "    doc = nlp(item)\n",
    "    #for ent in doc.ents:\n",
    "        #print(ent.text, ent.start_char, ent.end_char, ent.label_)\n",
    "    for token in doc:\n",
    "        for worTag in tags:\n",
    "            word = worTag['selectedText']\n",
    "            tag = worTag['selectedTag']\n",
    "            #print(\"word: \",word, \"  token.text : \",token.text)\n",
    "            if word.find(token.text) != -1:\n",
    "                tagSpa = tag\n",
    "            else:\n",
    "                tagSpa = 'O'\n",
    "        #print(token.text, token.pos_, tagSpa)"
   ]
  },
  {
   "cell_type": "code",
   "execution_count": 42,
   "id": "8006507f",
   "metadata": {},
   "outputs": [
    {
     "name": "stdout",
     "output_type": "stream",
     "text": [
      "{'scenarioID': '1', 'model': 'Mustang', 'year': 1964}\n"
     ]
    }
   ],
   "source": [
    "typeA_dic = {\n",
    "  \"scenarioID\": data['ScenarioID'],\n",
    "  \"model\": \"Mustang\",\n",
    "  \"year\": 1964\n",
    "}\n",
    "print(typeA_dic)"
   ]
  }
 ],
 "metadata": {
  "kernelspec": {
   "display_name": "Python 3",
   "language": "python",
   "name": "python3"
  },
  "language_info": {
   "codemirror_mode": {
    "name": "ipython",
    "version": 3
   },
   "file_extension": ".py",
   "mimetype": "text/x-python",
   "name": "python",
   "nbconvert_exporter": "python",
   "pygments_lexer": "ipython3",
   "version": "3.6.13"
  }
 },
 "nbformat": 4,
 "nbformat_minor": 5
}
